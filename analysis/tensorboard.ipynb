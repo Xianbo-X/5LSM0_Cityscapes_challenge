{
 "cells": [
  {
   "cell_type": "code",
   "execution_count": 4,
   "metadata": {},
   "outputs": [],
   "source": [
    "# loss curve + accuracy curve w.r.t epoch / w.r.t minibatch\n",
    "# segmented Ouptut Image\n",
    "# First layer/ downsample 1 output feature map , bottleneck\n",
    "# -> # conv filter"
   ]
  },
  {
   "cell_type": "code",
   "execution_count": 5,
   "metadata": {},
   "outputs": [],
   "source": [
    "import os\n",
    "try:\n",
    "    if RUN: os.chdir(BASE_PATH)\n",
    "except:\n",
    "    BASE_PATH=os.getcwd()\n",
    "RUN=True\n",
    "os.chdir(\"../\")\n",
    "from conf import *\n",
    "from scripts.dataset.dataset import *\n",
    "import torch\n",
    "from PIL import Image\n",
    "from matplotlib import pyplot as plt\n",
    "from scripts.metrics import compute_iou"
   ]
  },
  {
   "cell_type": "code",
   "execution_count": 2,
   "metadata": {},
   "outputs": [],
   "source": [
    "%load_ext tensorboard"
   ]
  },
  {
   "cell_type": "code",
   "execution_count": 3,
   "metadata": {},
   "outputs": [],
   "source": [
    "import os\n",
    "import json\n",
    "from scripts.utilities.parse_config import Config"
   ]
  },
  {
   "cell_type": "code",
   "execution_count": 4,
   "metadata": {},
   "outputs": [],
   "source": [
    "pjoin=lambda x: os.path.join(*x)"
   ]
  },
  {
   "cell_type": "code",
   "execution_count": 5,
   "metadata": {},
   "outputs": [],
   "source": [
    "folders=list(map(lambda x: os.path.join(\"saves\",x),os.listdir(\"saves\")))"
   ]
  },
  {
   "cell_type": "code",
   "execution_count": 9,
   "metadata": {},
   "outputs": [],
   "source": [
    "log_paths=[]\n",
    "for folder in folders:\n",
    "    conf=Config(pjoin([folder,\"config.json\"]))\n",
    "    res_folder=conf.get_result_folder()\n",
    "    log_paths.append(\":\".join([conf[\"path\"][\"SAVE_PATH\"],pjoin([res_folder,\"logs\"])]))"
   ]
  },
  {
   "cell_type": "code",
   "execution_count": 19,
   "metadata": {},
   "outputs": [],
   "source": [
    "os.system(\"tensorboard --logdir=\"+\",\".join(log_paths))"
   ]
  },
  {
   "cell_type": "code",
   "execution_count": 16,
   "metadata": {},
   "outputs": [
    {
     "data": {
      "text/plain": [
       "''"
      ]
     },
     "execution_count": 16,
     "metadata": {},
     "output_type": "execute_result"
    }
   ],
   "source": []
  },
  {
   "cell_type": "code",
   "execution_count": null,
   "metadata": {},
   "outputs": [],
   "source": []
  }
 ],
 "metadata": {
  "interpreter": {
   "hash": "56b31954674fc6f51602db4a7f25c722d71d022f812fec884663b8cfcd09f484"
  },
  "kernelspec": {
   "display_name": "Python 3.9.12 ('pytorch-gpu')",
   "language": "python",
   "name": "python3"
  },
  "language_info": {
   "codemirror_mode": {
    "name": "ipython",
    "version": 3
   },
   "file_extension": ".py",
   "mimetype": "text/x-python",
   "name": "python",
   "nbconvert_exporter": "python",
   "pygments_lexer": "ipython3",
   "version": "3.9.12"
  },
  "orig_nbformat": 4
 },
 "nbformat": 4,
 "nbformat_minor": 2
}
