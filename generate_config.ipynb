{
 "cells": [
  {
   "cell_type": "code",
   "execution_count": 8,
   "metadata": {},
   "outputs": [],
   "source": [
    "import json\n",
    "import os"
   ]
  },
  {
   "cell_type": "code",
   "execution_count": 9,
   "metadata": {},
   "outputs": [],
   "source": [
    "def genearte_lr(conf,lrs,folder_name):\n",
    "    global TOTAL_NUM\n",
    "    get_postfix=lambda x: \"_EXP_\"+str(TOTAL_NUM)+str(x)\n",
    "    for lr in lrs:\n",
    "        for aug_mode in [\"None\",\"Only\",\"Both\"]:\n",
    "            new_conf=conf.copy()\n",
    "            postfix=get_postfix(\"-AUG-\"+aug_mode)\n",
    "            new_conf[\"path\"][\"SAVE_PATH\"]=new_conf[\"architecture\"][\"model\"]+\"_EXP_\"+str(TOTAL_NUM)\n",
    "            new_conf[\"path\"][\"MODEL_PREFIX\"]=new_conf[\"architecture\"][\"model\"]\n",
    "            new_conf[\"param\"][\"learning_rate\"]=lr\n",
    "            new_conf[\"param\"][\"epochs\"]=1\n",
    "            new_conf[\"param\"][\"aug_mode\"]=aug_mode\n",
    "            with open(os.path.join(folder_name,\"config_lr\"+postfix+\".json\"),\"w\") as fout:\n",
    "                json.dump(new_conf,fout)\n",
    "            TOTAL_NUM+=1"
   ]
  },
  {
   "cell_type": "code",
   "execution_count": 10,
   "metadata": {},
   "outputs": [],
   "source": [
    "def get_json(template_path):\n",
    "    with open(template_path,\"r\") as fin:\n",
    "        conf=json.load(fin)\n",
    "    return conf"
   ]
  },
  {
   "cell_type": "code",
   "execution_count": 11,
   "metadata": {},
   "outputs": [],
   "source": [
    "def gen_config(folder_name):\n",
    "    template_path=os.path.join(folder_name,\"template.json\")\n",
    "    conf=get_json(template_path)\n",
    "    lrs=[0.1,0.05,0.02,0.01,0.005]\n",
    "    genearte_lr(conf,lrs,folder_name)"
   ]
  },
  {
   "cell_type": "code",
   "execution_count": 12,
   "metadata": {},
   "outputs": [
    {
     "name": "stdout",
     "output_type": "stream",
     "text": [
      "config\\pos_unet\n",
      "config\\res_unet\n",
      "config\\unet_1\n",
      "config\\unet_2\n",
      "config\\unet_2_1\n"
     ]
    }
   ],
   "source": [
    "for path in map(lambda x: os.path.join(\"config\",x),os.listdir(\"config\")):\n",
    "    print(path)\n",
    "    if not os.path.isdir(path): continue\n",
    "    TOTAL_NUM=0\n",
    "    folder_name=path\n",
    "    gen_config(folder_name)"
   ]
  },
  {
   "cell_type": "code",
   "execution_count": null,
   "metadata": {},
   "outputs": [],
   "source": []
  }
 ],
 "metadata": {
  "interpreter": {
   "hash": "56b31954674fc6f51602db4a7f25c722d71d022f812fec884663b8cfcd09f484"
  },
  "kernelspec": {
   "display_name": "Python 3.9.12 ('pytorch-gpu')",
   "language": "python",
   "name": "python3"
  },
  "language_info": {
   "codemirror_mode": {
    "name": "ipython",
    "version": 3
   },
   "file_extension": ".py",
   "mimetype": "text/x-python",
   "name": "python",
   "nbconvert_exporter": "python",
   "pygments_lexer": "ipython3",
   "version": "3.9.12"
  },
  "orig_nbformat": 4
 },
 "nbformat": 4,
 "nbformat_minor": 2
}
